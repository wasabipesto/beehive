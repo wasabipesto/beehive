{
 "cells": [
  {
   "cell_type": "markdown",
   "metadata": {},
   "source": [
    "A jupyter notebook to download genre data from https://everynoise.com/"
   ]
  },
  {
   "cell_type": "code",
   "execution_count": 1,
   "metadata": {},
   "outputs": [],
   "source": [
    "import requests\n",
    "import json\n",
    "from bs4 import BeautifulSoup as bs"
   ]
  },
  {
   "cell_type": "code",
   "execution_count": 2,
   "metadata": {},
   "outputs": [
    {
     "name": "stdout",
     "output_type": "stream",
     "text": [
      "Canvas Dimensions: 22683 1610\n"
     ]
    }
   ],
   "source": [
    "# download and parse page\n",
    "r = requests.get('https://everynoise.com/')\n",
    "soup = bs(r.text, features='lxml')\n",
    "\n",
    "# get canvas\n",
    "canvases = soup.find_all('div', attrs={'class': 'canvas'})\n",
    "assert len(canvases) == 1, ''\n",
    "canvas = canvases[0]\n",
    "\n",
    "# get data from styles\n",
    "# used below as well\n",
    "def extract_style_elems(element):\n",
    "    style = element['style']\n",
    "    style_dict = {}\n",
    "    \n",
    "    # Split style string into key-value pairs\n",
    "    for item in style.split(';'):\n",
    "        if ':' in item:\n",
    "            key, value = item.split(':', 1)\n",
    "            style_dict[key.strip()] = value.strip()\n",
    "\n",
    "    return style_dict\n",
    "\n",
    "# get canvas width and height\n",
    "canvas_style_elems = extract_style_elems(canvas)\n",
    "canvas_height = int(canvas_style_elems['height'].replace('px', ''))\n",
    "canvas_width = int(canvas_style_elems['width'].replace('px', ''))\n",
    "print('Canvas Dimensions:', canvas_height, canvas_width)"
   ]
  },
  {
   "cell_type": "code",
   "execution_count": 3,
   "metadata": {},
   "outputs": [
    {
     "name": "stdout",
     "output_type": "stream",
     "text": [
      "Genre Count: 6291\n"
     ]
    }
   ],
   "source": [
    "# get data from an element\n",
    "def extract_genre_details(element, canvas_height, canvas_width):\n",
    "    name = element.text.replace('» ', '')\n",
    "    style = extract_style_elems(element)\n",
    "    x = int(style['left'].replace('px', ''))\n",
    "    y = canvas_height - int(style['top'].replace('px', ''))\n",
    "    color = style['color']\n",
    "    color_sep = tuple(int(color.lstrip('#')[i:i+2], 16) for i in (0, 2, 4))\n",
    "    fontsize = int(style['font-size'].replace('%', ''))\n",
    "    return {\n",
    "        'name': name,\n",
    "        'x': x,\n",
    "        'y': y,\n",
    "        'r': color_sep[0],\n",
    "        'g': color_sep[1],\n",
    "        'b': color_sep[2],\n",
    "        'color': color,\n",
    "        'fontsize': fontsize,\n",
    "    }\n",
    "\n",
    "# extract all genre data\n",
    "genre_attrs = {}\n",
    "for genre_element in canvas.find_all('div'):\n",
    "    genre_details = extract_genre_details(genre_element, canvas_height, canvas_width)\n",
    "    name = genre_details['name']\n",
    "    genre_attrs[name] = genre_details\n",
    "print('Genre Count:', len(genre_attrs))"
   ]
  },
  {
   "cell_type": "code",
   "execution_count": 4,
   "metadata": {},
   "outputs": [],
   "source": [
    "# Define the attributes to normalize\n",
    "attributes = ['x', 'y', 'r', 'g', 'b']\n",
    "\n",
    "# Normalize each attribute\n",
    "for attr in attributes:\n",
    "    min_attr = min([i[attr] for i in genre_attrs.values()])\n",
    "    max_attr = max([i[attr] for i in genre_attrs.values()])\n",
    "    for genre in genre_attrs:\n",
    "        value = genre_attrs[genre][attr]\n",
    "        normalized_value = round((value - min_attr) / (max_attr - min_attr) * 100, 2)\n",
    "        genre_attrs[genre][f'{attr}_norm'] = normalized_value\n"
   ]
  },
  {
   "cell_type": "code",
   "execution_count": 5,
   "metadata": {},
   "outputs": [],
   "source": [
    "# add a few extra\n",
    "genre_attrs['indie'] = genre_attrs['la indie']\n",
    "genre_attrs['canadian indie rock'] = genre_attrs['indie rock']\n",
    "genre_attrs['french house'] = genre_attrs['filter house']"
   ]
  },
  {
   "cell_type": "code",
   "execution_count": 6,
   "metadata": {},
   "outputs": [],
   "source": [
    "# dump data to disk\n",
    "with open('cache/genre_attrs.json', 'w') as file:\n",
    "    json.dump(genre_attrs, file)"
   ]
  }
 ],
 "metadata": {
  "kernelspec": {
   "display_name": ".venv",
   "language": "python",
   "name": "python3"
  },
  "language_info": {
   "codemirror_mode": {
    "name": "ipython",
    "version": 3
   },
   "file_extension": ".py",
   "mimetype": "text/x-python",
   "name": "python",
   "nbconvert_exporter": "python",
   "pygments_lexer": "ipython3",
   "version": "3.11.11"
  }
 },
 "nbformat": 4,
 "nbformat_minor": 2
}
